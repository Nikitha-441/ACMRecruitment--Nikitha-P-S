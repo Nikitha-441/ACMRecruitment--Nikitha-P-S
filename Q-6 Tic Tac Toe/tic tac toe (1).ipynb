{
 "cells": [
  {
   "cell_type": "code",
   "execution_count": 26,
   "id": "ca805ce5-c69d-4f02-90ce-04f7315c9a3f",
   "metadata": {},
   "outputs": [
    {
     "name": "stdout",
     "output_type": "stream",
     "text": [
      "- | - | -\n",
      "---------\n",
      "- | - | -\n",
      "---------\n",
      "- | - | -\n",
      "\n",
      "Computer's turn\n",
      "- | - | -\n",
      "---------\n",
      "- | - | -\n",
      "---------\n",
      "- | - | x\n",
      "\n",
      "Your turn\n"
     ]
    },
    {
     "name": "stdin",
     "output_type": "stream",
     "text": [
      "Choose a cell from 0-8:  4\n"
     ]
    },
    {
     "name": "stdout",
     "output_type": "stream",
     "text": [
      "- | - | -\n",
      "---------\n",
      "- | o | -\n",
      "---------\n",
      "- | - | x\n",
      "\n",
      "Computer's turn\n",
      "Invalid move!, Enter a value from 0-8\n",
      "- | - | -\n",
      "---------\n",
      "- | o | -\n",
      "---------\n",
      "- | - | x\n",
      "\n",
      "Your turn\n"
     ]
    },
    {
     "name": "stdin",
     "output_type": "stream",
     "text": [
      "Choose a cell from 0-8:  8\n"
     ]
    },
    {
     "name": "stdout",
     "output_type": "stream",
     "text": [
      "Invalid move!, Enter a value from 0-8\n",
      "- | - | -\n",
      "---------\n",
      "- | o | -\n",
      "---------\n",
      "- | - | x\n",
      "\n",
      "Computer's turn\n",
      "- | x | -\n",
      "---------\n",
      "- | o | -\n",
      "---------\n",
      "- | - | x\n",
      "\n",
      "Your turn\n"
     ]
    },
    {
     "name": "stdin",
     "output_type": "stream",
     "text": [
      "Choose a cell from 0-8:  2\n"
     ]
    },
    {
     "name": "stdout",
     "output_type": "stream",
     "text": [
      "- | x | o\n",
      "---------\n",
      "- | o | -\n",
      "---------\n",
      "- | - | x\n",
      "\n",
      "Computer's turn\n",
      "Invalid move!, Enter a value from 0-8\n",
      "- | x | o\n",
      "---------\n",
      "- | o | -\n",
      "---------\n",
      "- | - | x\n",
      "\n",
      "Your turn\n"
     ]
    },
    {
     "name": "stdin",
     "output_type": "stream",
     "text": [
      "Choose a cell from 0-8:  6\n"
     ]
    },
    {
     "name": "stdout",
     "output_type": "stream",
     "text": [
      "The winner is:  o\n",
      "- | x | o\n",
      "---------\n",
      "- | o | -\n",
      "---------\n",
      "o | - | x\n",
      "\n"
     ]
    }
   ],
   "source": [
    "import random\n",
    "board=['-']*9\n",
    "winner=None\n",
    "currentPlayer='x'\n",
    "gamerunning=True\n",
    "# To display board\n",
    "def display(board):\n",
    "    print(board[0],\"|\",board[1],\"|\",board[2])\n",
    "    print(\"---------\")\n",
    "    print(board[3],\"|\",board[4],\"|\",board[5])\n",
    "    print(\"---------\")\n",
    "    print(board[6],\"|\",board[7],\"|\",board[8])\n",
    "    print()\n",
    "# To get input from user\n",
    "def inputuser(board):\n",
    "    global currentPlayer\n",
    "    if currentPlayer==\"x\":\n",
    "        print(\"Computer's turn\")\n",
    "        p=random.randint(0,8)\n",
    "        if p>=0 and p<=8 and board[p]==\"-\":\n",
    "            board[p]=currentPlayer\n",
    "        else:\n",
    "            print(\"Invalid move!, Enter a value from 0-8\")\n",
    "    else:\n",
    "        print(\"Your turn\")\n",
    "        a=int(input(\"Choose a cell from 0-8: \"))\n",
    "        if a>=0 and a<=8 and board[a]==\"-\":\n",
    "            board[a]=currentPlayer\n",
    "        else:\n",
    "            print(\"Invalid move!, Enter a value from 0-8\")\n",
    "\n",
    "# To check win or tie conditions\n",
    "def hortizontal(board):\n",
    "    global winner\n",
    "    if board[0]==board[1]==board[2] and board[0]!='-':\n",
    "        winner=board[0]\n",
    "        return True\n",
    "    elif board[3]==board[4]==board[5] and board[3]!='-':\n",
    "        winner=board[3]\n",
    "        return True\n",
    "    elif board[6]==board[7]==board[8] and board[6]!='-':\n",
    "        winner=board[6]\n",
    "        return True\n",
    "def vertical(board):\n",
    "    global winner\n",
    "    if board[0]==board[3]==board[6] and board[0]!='-':\n",
    "        winner=board[0]\n",
    "        return True\n",
    "    elif board[1]==board[4]==board[7] and board[1]!='-':\n",
    "        winner=board[1]\n",
    "        return True\n",
    "    elif board[2]==board[5]==board[8] and board[2]!='-':\n",
    "        winner=board[2]\n",
    "        return True\n",
    "def diag(board):\n",
    "    global winner\n",
    "    if board[0]==board[4]==board[8] and board[0]!='-':\n",
    "        winner=board[0]\n",
    "        return True\n",
    "    elif board[2]==board[4]==board[6] and board[6]!='-':\n",
    "        winner=board[2]\n",
    "        return True\n",
    "def tie(board):\n",
    "    global gamerunning\n",
    "    if \"-\" not in board :\n",
    "        display(board)\n",
    "        print()\n",
    "        print(\"It is a tie\")\n",
    "        gamerunning=False\n",
    "\n",
    "def win(board):\n",
    "    global gamerunning\n",
    "    if hortizontal(board) or vertical(board) or diag(board):\n",
    "        print(\"The winner is: \",currentPlayer)\n",
    "        display(board)\n",
    "        gamerunning=False\n",
    "# To Switch players\n",
    "def switchplayer(board):\n",
    "    global currentPlayer\n",
    "    if currentPlayer==\"x\":\n",
    "        currentPlayer=\"o\"\n",
    "    else:\n",
    "        currentPlayer=\"x\"\n",
    "        \n",
    "while gamerunning:\n",
    "    display(board)\n",
    "    inputuser(board)\n",
    "    win(board)\n",
    "    tie(board)\n",
    "    switchplayer(board)\n"
   ]
  },
  {
   "cell_type": "code",
   "execution_count": null,
   "id": "5dc665a7-0ddc-45af-96c8-519a8db246c9",
   "metadata": {},
   "outputs": [],
   "source": []
  }
 ],
 "metadata": {
  "kernelspec": {
   "display_name": "Python 3 (ipykernel)",
   "language": "python",
   "name": "python3"
  },
  "language_info": {
   "codemirror_mode": {
    "name": "ipython",
    "version": 3
   },
   "file_extension": ".py",
   "mimetype": "text/x-python",
   "name": "python",
   "nbconvert_exporter": "python",
   "pygments_lexer": "ipython3",
   "version": "3.12.4"
  }
 },
 "nbformat": 4,
 "nbformat_minor": 5
}
