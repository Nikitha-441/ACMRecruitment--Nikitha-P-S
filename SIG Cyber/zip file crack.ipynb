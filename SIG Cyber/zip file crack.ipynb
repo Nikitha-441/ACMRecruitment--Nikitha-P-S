{
 "cells": [
  {
   "cell_type": "code",
   "execution_count": null,
   "id": "2bedf88d-99a5-4698-9a6c-0d781682c582",
   "metadata": {},
   "outputs": [],
   "source": [
    "# In order to work with zipfile we need to import a module called as zipfile\n",
    "import zipfile\n",
    "#  Defining a function to crack the password of the zipfile\n",
    "def crackpass(obj):\n",
    "    with open(\"Downloads/rockyou.txt\",'rb') as file: #Opening file rockyou.txt in read mode and the file is given a alias name as file\n",
    "        for i in file:\n",
    "            for word in i.split():\n",
    "                #try and except can handle runtime exception\n",
    "                try:\n",
    "                    obj.extractall(pwd=word.decode()) # This will extract the all the files in the zip file with password as word\n",
    "                    print(\"The password is\", word.decode())\n",
    "                    return True\n",
    "                except:\n",
    "                    continue\n",
    "    return False\n",
    "zip_file=\"Downloads/Trybreakingme.zip\"\n",
    "obj=zipfile.ZipFile(zip_file) #This is used to reading and writing zipfile\n",
    "if crackpass(obj)== False:\n",
    "    print(\"Password not found in the list\")"
   ]
  },
  {
   "cell_type": "code",
   "execution_count": null,
   "id": "b3019a69-4257-45c4-85b5-f5d825bb8d22",
   "metadata": {},
   "outputs": [],
   "source": []
  }
 ],
 "metadata": {
  "kernelspec": {
   "display_name": "Python 3 (ipykernel)",
   "language": "python",
   "name": "python3"
  },
  "language_info": {
   "codemirror_mode": {
    "name": "ipython",
    "version": 3
   },
   "file_extension": ".py",
   "mimetype": "text/x-python",
   "name": "python",
   "nbconvert_exporter": "python",
   "pygments_lexer": "ipython3",
   "version": "3.12.4"
  }
 },
 "nbformat": 4,
 "nbformat_minor": 5
}
