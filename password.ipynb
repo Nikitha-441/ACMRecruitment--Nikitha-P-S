{
 "cells": [
  {
   "cell_type": "code",
   "execution_count": 9,
   "id": "bc08a085-15dd-4eac-8bbc-e3c83c8ca881",
   "metadata": {},
   "outputs": [
    {
     "name": "stdin",
     "output_type": "stream",
     "text": [
      "Enter the password:  Nik@1234\n"
     ]
    },
    {
     "name": "stdout",
     "output_type": "stream",
     "text": [
      "Password is validated\n"
     ]
    }
   ],
   "source": [
    "def validation(password):\n",
    "    upper=0\n",
    "    lower=0\n",
    "    spl=0\n",
    "    inv=0\n",
    "    passwords=[\"A1b#cD3e\", \"Xy4$Zz7!\", \"P@ssw0rd\", \"M!n3r4L^\", \"T7r$eN8f\" ]\n",
    "    for i in password: \n",
    "        if i.isalnum():\n",
    "            if i.isupper():\n",
    "                upper+=1\n",
    "            elif i.islower():\n",
    "                lower+=1\n",
    "        else:\n",
    "            spl+=1\n",
    "    if password[0].isalpha():\n",
    "        pass\n",
    "    else:\n",
    "        inv+=1\n",
    "    if len(password)==8 and upper!=0 and lower!=0 and password not in passwords and spl!=0 and inv==0:\n",
    "        return \"Password is validated\"\n",
    "    else:\n",
    "        return \"Error! Invalid Paasword.The conditions are not met.\"\n",
    "x=input(\"Enter the password: \")\n",
    "valid=validation(x)\n",
    "print(valid)"
   ]
  },
  {
   "cell_type": "code",
   "execution_count": null,
   "id": "abf3ddc9-ac1f-43a6-822a-78f3fe3f1705",
   "metadata": {},
   "outputs": [],
   "source": []
  }
 ],
 "metadata": {
  "kernelspec": {
   "display_name": "Python 3 (ipykernel)",
   "language": "python",
   "name": "python3"
  },
  "language_info": {
   "codemirror_mode": {
    "name": "ipython",
    "version": 3
   },
   "file_extension": ".py",
   "mimetype": "text/x-python",
   "name": "python",
   "nbconvert_exporter": "python",
   "pygments_lexer": "ipython3",
   "version": "3.12.4"
  }
 },
 "nbformat": 4,
 "nbformat_minor": 5
}
